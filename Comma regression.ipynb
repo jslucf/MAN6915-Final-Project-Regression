{
 "cells": [
  {
   "cell_type": "code",
   "execution_count": 37,
   "metadata": {
    "collapsed": false
   },
   "outputs": [],
   "source": [
    "import pandas as pd\n",
    "import numpy as np\n",
    "from sklearn.linear_model import LogisticRegression"
   ]
  },
  {
   "cell_type": "code",
   "execution_count": 238,
   "metadata": {
    "collapsed": false
   },
   "outputs": [
    {
     "data": {
      "text/plain": [
       "Index(['Unnamed: 0', 'RespondentID',\n",
       "       'Sentence_It's important for a person to be honest, kind, and loyal.',\n",
       "       'OxfordCommaHeard_Yes', 'OxfordCommaCare_Not at all',\n",
       "       'OxfordCommaCare_Not much', 'OxfordCommaCare_Some',\n",
       "       'Unnamed: 4_Some experts say it's important to drink milk, but the data is inconclusive.',\n",
       "       'DataPlural_Yes', 'DataPluralCare_Not at all',\n",
       "       'DataPluralCare_Not much', 'DataPluralCare_Some',\n",
       "       'GrammarImportance_Somewhat important',\n",
       "       'GrammarImportance_Somewhat unimportant',\n",
       "       'GrammarImportance_Very important',\n",
       "       'GrammarImportance_Very unimportant', 'Income_$100,000 - $149,999',\n",
       "       'Income_$150,000+', 'Income_$25,000 - $49,999',\n",
       "       'Income_$50,000 - $99,999', 'Education_Graduate degree',\n",
       "       'Education_High school degree',\n",
       "       'Education_Less than high school degree',\n",
       "       'Education_Some college or Associate degree',\n",
       "       'Location_East South Central', 'Location_Middle Atlantic',\n",
       "       'Location_Mountain', 'Location_New England', 'Location_Pacific',\n",
       "       'Location_South Atlantic', 'Location_West North Central',\n",
       "       'Location_West South Central', 'CommaImp'],\n",
       "      dtype='object')"
      ]
     },
     "execution_count": 238,
     "metadata": {},
     "output_type": "execute_result"
    }
   ],
   "source": [
    "#read in clean data\n",
    "comma = pd.read_csv(\"C:\\\\Users\\\\ja041718\\\\Downloads\\\\clean_data.txt\", sep=\"\\t\", header=0)\n",
    "comma.columns"
   ]
  },
  {
   "cell_type": "markdown",
   "metadata": {},
   "source": [
    "We need to setup the indexes for the columns used in the regression. Our dependent variable is in column 32, but we also need to remove columns 4-7 since they represent the same survey question."
   ]
  },
  {
   "cell_type": "code",
   "execution_count": 257,
   "metadata": {
    "collapsed": false
   },
   "outputs": [
    {
     "name": "stdout",
     "output_type": "stream",
     "text": [
      "[3, 7, 8, 9, 10, 11, 12, 13, 14, 15, 16, 17, 18, 19, 20, 21, 22, 23, 24, 25, 26, 27, 28, 29, 30, 31]\n"
     ]
    }
   ],
   "source": [
    "#Indexes of predictors\n",
    "predcols = list(range(3,33))\n",
    "\n",
    "#Dependent Variable\n",
    "labelcol = 32\n",
    "\n",
    "#Variables related to the dependent variable that need to be removed\n",
    "sublabels = [5,6,4]\n",
    "\n",
    "#Remove the variables that need to be removed from the predictors\n",
    "predcols.remove(labelcol)\n",
    "\n",
    "for col in sublabels:\n",
    "    predcols.remove(col)\n",
    "    \n",
    "print(predcols)"
   ]
  },
  {
   "cell_type": "code",
   "execution_count": 258,
   "metadata": {
    "collapsed": false
   },
   "outputs": [],
   "source": [
    "#take out the dependent variable\n",
    "labels = comma.iloc[:,labelcol]\n",
    "\n",
    "\n",
    "\n",
    "#take out the independent variables\n",
    "predictors = comma.iloc[:,  predcols]"
   ]
  },
  {
   "cell_type": "code",
   "execution_count": 191,
   "metadata": {
    "collapsed": false
   },
   "outputs": [],
   "source": [
    "#Setup a logistic regression object\n",
    "glm = LogisticRegression()"
   ]
  },
  {
   "cell_type": "code",
   "execution_count": 259,
   "metadata": {
    "collapsed": false
   },
   "outputs": [],
   "source": [
    "#fit the glm model\n",
    "commaglm = glm.fit(predictors, labels)\n",
    "commaglm_prob = commaglm.predict_proba(predictors)\n",
    "df = pd.DataFrame(commaglm_prob)"
   ]
  },
  {
   "cell_type": "code",
   "execution_count": 260,
   "metadata": {
    "collapsed": false
   },
   "outputs": [
    {
     "data": {
      "text/plain": [
       "0.76759884281581481"
      ]
     },
     "execution_count": 260,
     "metadata": {},
     "output_type": "execute_result"
    }
   ],
   "source": [
    "#Score of the model\n",
    "commaglm.score(predictors, labels)"
   ]
  },
  {
   "cell_type": "code",
   "execution_count": 261,
   "metadata": {
    "collapsed": false
   },
   "outputs": [
    {
     "data": {
      "text/plain": [
       "0.7299903567984571"
      ]
     },
     "execution_count": 261,
     "metadata": {},
     "output_type": "execute_result"
    }
   ],
   "source": [
    "#Actual rate of people who don't think the comma is important\n",
    "1 - labels.mean()"
   ]
  },
  {
   "cell_type": "markdown",
   "metadata": {},
   "source": [
    "So we can see our model does well at 76.8%, but you could achieve 73% just by guessing that everyone doesn't think commas are important. Therefore the model is not that great."
   ]
  },
  {
   "cell_type": "code",
   "execution_count": 262,
   "metadata": {
    "collapsed": false
   },
   "outputs": [],
   "source": [
    "#append the list of all coefficients used in the model\n",
    "coef=[]\n",
    "for i in commaglm.coef_:\n",
    "    coef.append(i)"
   ]
  },
  {
   "cell_type": "code",
   "execution_count": 263,
   "metadata": {
    "collapsed": false
   },
   "outputs": [
    {
     "data": {
      "text/html": [
       "<div>\n",
       "<table border=\"1\" class=\"dataframe\">\n",
       "  <thead>\n",
       "    <tr style=\"text-align: right;\">\n",
       "      <th></th>\n",
       "      <th>0</th>\n",
       "    </tr>\n",
       "  </thead>\n",
       "  <tbody>\n",
       "    <tr>\n",
       "      <th>1.127107</th>\n",
       "      <td>OxfordCommaHeard_Yes</td>\n",
       "    </tr>\n",
       "    <tr>\n",
       "      <th>-0.081100</th>\n",
       "      <td>Unnamed: 4_Some experts say it's important to ...</td>\n",
       "    </tr>\n",
       "    <tr>\n",
       "      <th>0.082882</th>\n",
       "      <td>DataPlural_Yes</td>\n",
       "    </tr>\n",
       "    <tr>\n",
       "      <th>-1.526581</th>\n",
       "      <td>DataPluralCare_Not at all</td>\n",
       "    </tr>\n",
       "    <tr>\n",
       "      <th>-1.408221</th>\n",
       "      <td>DataPluralCare_Not much</td>\n",
       "    </tr>\n",
       "    <tr>\n",
       "      <th>-0.881492</th>\n",
       "      <td>DataPluralCare_Some</td>\n",
       "    </tr>\n",
       "    <tr>\n",
       "      <th>-0.303399</th>\n",
       "      <td>GrammarImportance_Somewhat important</td>\n",
       "    </tr>\n",
       "    <tr>\n",
       "      <th>0.193160</th>\n",
       "      <td>GrammarImportance_Somewhat unimportant</td>\n",
       "    </tr>\n",
       "    <tr>\n",
       "      <th>1.135965</th>\n",
       "      <td>GrammarImportance_Very important</td>\n",
       "    </tr>\n",
       "    <tr>\n",
       "      <th>-0.392956</th>\n",
       "      <td>GrammarImportance_Very unimportant</td>\n",
       "    </tr>\n",
       "    <tr>\n",
       "      <th>-0.245321</th>\n",
       "      <td>Income_$100,000 - $149,999</td>\n",
       "    </tr>\n",
       "    <tr>\n",
       "      <th>-0.433458</th>\n",
       "      <td>Income_$150,000+</td>\n",
       "    </tr>\n",
       "    <tr>\n",
       "      <th>-0.417222</th>\n",
       "      <td>Income_$25,000 - $49,999</td>\n",
       "    </tr>\n",
       "    <tr>\n",
       "      <th>-0.794780</th>\n",
       "      <td>Income_$50,000 - $99,999</td>\n",
       "    </tr>\n",
       "    <tr>\n",
       "      <th>-0.144969</th>\n",
       "      <td>Education_Graduate degree</td>\n",
       "    </tr>\n",
       "    <tr>\n",
       "      <th>-0.131899</th>\n",
       "      <td>Education_High school degree</td>\n",
       "    </tr>\n",
       "    <tr>\n",
       "      <th>0.554773</th>\n",
       "      <td>Education_Less than high school degree</td>\n",
       "    </tr>\n",
       "    <tr>\n",
       "      <th>-0.146236</th>\n",
       "      <td>Education_Some college or Associate degree</td>\n",
       "    </tr>\n",
       "    <tr>\n",
       "      <th>0.039258</th>\n",
       "      <td>Location_East South Central</td>\n",
       "    </tr>\n",
       "    <tr>\n",
       "      <th>-0.238292</th>\n",
       "      <td>Location_Middle Atlantic</td>\n",
       "    </tr>\n",
       "    <tr>\n",
       "      <th>-0.317563</th>\n",
       "      <td>Location_Mountain</td>\n",
       "    </tr>\n",
       "    <tr>\n",
       "      <th>0.283532</th>\n",
       "      <td>Location_New England</td>\n",
       "    </tr>\n",
       "    <tr>\n",
       "      <th>-0.210601</th>\n",
       "      <td>Location_Pacific</td>\n",
       "    </tr>\n",
       "    <tr>\n",
       "      <th>0.312409</th>\n",
       "      <td>Location_South Atlantic</td>\n",
       "    </tr>\n",
       "    <tr>\n",
       "      <th>0.083301</th>\n",
       "      <td>Location_West North Central</td>\n",
       "    </tr>\n",
       "    <tr>\n",
       "      <th>-0.201768</th>\n",
       "      <td>Location_West South Central</td>\n",
       "    </tr>\n",
       "  </tbody>\n",
       "</table>\n",
       "</div>"
      ],
      "text/plain": [
       "                                                           0\n",
       " 1.127107                               OxfordCommaHeard_Yes\n",
       "-0.081100  Unnamed: 4_Some experts say it's important to ...\n",
       " 0.082882                                     DataPlural_Yes\n",
       "-1.526581                          DataPluralCare_Not at all\n",
       "-1.408221                            DataPluralCare_Not much\n",
       "-0.881492                                DataPluralCare_Some\n",
       "-0.303399               GrammarImportance_Somewhat important\n",
       " 0.193160             GrammarImportance_Somewhat unimportant\n",
       " 1.135965                   GrammarImportance_Very important\n",
       "-0.392956                 GrammarImportance_Very unimportant\n",
       "-0.245321                         Income_$100,000 - $149,999\n",
       "-0.433458                                   Income_$150,000+\n",
       "-0.417222                           Income_$25,000 - $49,999\n",
       "-0.794780                           Income_$50,000 - $99,999\n",
       "-0.144969                          Education_Graduate degree\n",
       "-0.131899                       Education_High school degree\n",
       " 0.554773             Education_Less than high school degree\n",
       "-0.146236         Education_Some college or Associate degree\n",
       " 0.039258                        Location_East South Central\n",
       "-0.238292                           Location_Middle Atlantic\n",
       "-0.317563                                  Location_Mountain\n",
       " 0.283532                               Location_New England\n",
       "-0.210601                                   Location_Pacific\n",
       " 0.312409                            Location_South Atlantic\n",
       " 0.083301                        Location_West North Central\n",
       "-0.201768                        Location_West South Central"
      ]
     },
     "execution_count": 263,
     "metadata": {},
     "output_type": "execute_result"
    }
   ],
   "source": [
    "#create a df of the coefficients with their labels\n",
    "df = pd.DataFrame(list(comma.columns[predcols]),\n",
    "                  coef)\n",
    "df"
   ]
  }
 ],
 "metadata": {
  "anaconda-cloud": {},
  "kernelspec": {
   "display_name": "Python [conda root]",
   "language": "python",
   "name": "conda-root-py"
  },
  "language_info": {
   "codemirror_mode": {
    "name": "ipython",
    "version": 3
   },
   "file_extension": ".py",
   "mimetype": "text/x-python",
   "name": "python",
   "nbconvert_exporter": "python",
   "pygments_lexer": "ipython3",
   "version": "3.5.2"
  }
 },
 "nbformat": 4,
 "nbformat_minor": 1
}
